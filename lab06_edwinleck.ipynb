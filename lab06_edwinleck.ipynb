{
 "cells": [
  {
   "cell_type": "raw",
   "metadata": {
    "vscode": {
     "languageId": "raw"
    }
   },
   "source": [
    "---\n",
    "title: \"Module 04: Lab 01\"\n",
    "subtitle: \"Visual Reporting and Storytelling\"\n",
    "author: \"Edwin Leck\"\n",
    "number-sections: true\n",
    "date: \"2024-11-21\"\n",
    "date-modified: today\n",
    "date-format: long\n",
    "engine: jupyter\n",
    "categories: [\"visualization\",\"plotly\",\"spark\",\"Visual Reporting\",\"Storytelling with Data\",\"Industry-Specific Visualization\",]\n",
    "execute: \n",
    "  eval: false\n",
    "  echo: true\n",
    "---"
   ]
  },
  {
   "cell_type": "markdown",
   "metadata": {
    "vscode": {
     "languageId": "plaintext"
    }
   },
   "source": [
    "# Objectives {.unnumbered}\n",
    "\n",
    "By the end of this lab, you will:\n",
    "1. Load and analyze the **Lightcast dataset** in **Spark DataFrame**.\n",
    "2. Create **five easy and three medium-complexity visualizations** using **Plotly**.\n",
    "3. Explore **salary distributions, employment trends, and job postings**.\n",
    "4. Analyze **skills in relation to NAICS/SOC/ONET codes and salaries**.\n",
    "5. Customize **colors, fonts, and styles** in all visualizations (**default themes result in a 2.5-point deduction**).\n",
    "6. Follow **best practices for reporting on data communication**."
   ]
  },
  {
   "cell_type": "markdown",
   "metadata": {
    "vscode": {
     "languageId": "plaintext"
    }
   },
   "source": [
    "# Step 1: Load the Dataset {.unnumbered}\n"
   ]
  },
  {
   "cell_type": "code",
   "execution_count": null,
   "metadata": {},
   "outputs": [],
   "source": [
    "import pandas as pd\n",
    "import plotly.express as px\n",
    "import plotly.io as pio\n",
    "pio.renderers.default = \"vscode\"\n",
    "from pyspark.sql import SparkSession\n",
    "from pyspark.sql.functions import col\n",
    "\n",
    "\n",
    "# Initialize Spark Session\n",
    "spark = SparkSession.builder.appName(\"LightcastData\").getOrCreate()\n",
    "\n",
    "# Load Data\n",
    "df = spark.read.option(\"header\", \"true\").option(\"inferSchema\", \"true\").option(\"multiLine\",\"true\").option(\"escape\", \"\\\"\").csv(\"./data/lightcast_job_postings.csv\")\n"
   ]
  },
  {
   "cell_type": "markdown",
   "metadata": {
    "vscode": {
     "languageId": "plaintext"
    }
   },
   "source": [
    "# Salary Distribution by Employment Type\n",
    "- Identify salary trends across different employment types.\n",
    "- **Filter the dataset**\n",
    "  - Remove records where **salary is missing or zero**.\n",
    "- **Aggregate Data**\n",
    "  - Group by **employment type** and compute salary distribution.\n",
    "- **Visualize results**\n",
    "  - Create a **box plot** where:\n",
    "    - **X-axis** = `EMPLOYMENT_TYPE_NAME`\n",
    "    - **Y-axis** = `SALARY_FROM`\n",
    "  - Customize **colors, fonts, and styles** to avoid a **2.5-point deduction**.\n",
    "- **Explanation:** Write two sentences about what the graph reveals.\n",
    "\n"
   ]
  },
  {
   "cell_type": "code",
   "execution_count": null,
   "metadata": {},
   "outputs": [],
   "source": [
    "# Your Code for 1st question here\n",
    "pdf = df.select(\"EMPLOYMENT_TYPE_NAME\", \"SALARY\").toPandas()\n",
    "fig = px.box(pdf, x=\"EMPLOYMENT_TYPE_NAME\", y=\"SALARY\", title=\"Salary Distribution by Employment Type\", color_discrete_sequence=[\"#636EFA\"])\n",
    "fig.update_layout(font_family=\"Arial\", title_font_size=16)\n",
    "fig.show()"
   ]
  },
  {
   "cell_type": "code",
   "execution_count": null,
   "metadata": {},
   "outputs": [],
   "source": [
    "fig.write_image(\"output/salary_distribution_by_employment_type.svg\")"
   ]
  },
  {
   "cell_type": "markdown",
   "metadata": {},
   "source": [
    "![Salary Distribution by Employment Type](output/salary_distribution_by_employment_type.svg)"
   ]
  },
  {
   "cell_type": "markdown",
   "metadata": {},
   "source": [
    "The graph reveals that full-time positions (> 32 hours) generally command higher salaries compared to part-time roles (≤ 32 hours), indicating a clear correlation between employment type and compensation. Additionally, the distribution for part-time/full-time roles shows a wider variability in salaries, suggesting that hybrid employment types may encompass a broader range of roles with differing pay scales, potentially influenced by factors such as job responsibilities, industry standards, or geographic location."
   ]
  },
  {
   "cell_type": "markdown",
   "metadata": {
    "vscode": {
     "languageId": "plaintext"
    }
   },
   "source": [
    "# Salary Distribution by Industry\n",
    "- Compare salary variations across industries.\n",
    "- **Filter the dataset**\n",
    "  - Keep records where **salary is greater than zero**.\n",
    "- **Aggregate Data**\n",
    "  - Group by **NAICS industry codes**.\n",
    "- **Visualize results**\n",
    "  - Create a **box plot** where:\n",
    "    - **X-axis** = `NAICS2_NAME`\n",
    "    - **Y-axis** = `SALARY_FROM`\n",
    "  - Customize colors, fonts, and styles.\n",
    "- **Explanation:** Write two sentences about what the graph reveals."
   ]
  },
  {
   "cell_type": "code",
   "execution_count": null,
   "metadata": {},
   "outputs": [],
   "source": [
    "# Your code for 2nd question here\n",
    "\n",
    "# Convert Spark DataFrame to Pandas after filtering salary > 0\n",
    "pdf = df.filter(df.SALARY > 0).select(\"NAICS2_NAME\", \"SALARY\").toPandas()\n",
    "\n",
    "# Create a box plot\n",
    "fig = px.box(pdf, x=\"NAICS2_NAME\", y=\"SALARY\", \n",
    "             title=\"Salary Distribution by Industry\", \n",
    "             color_discrete_sequence=[\"#636EFA\"])\n",
    "\n",
    "# Customize layout\n",
    "fig.update_layout(font_family=\"Arial\", title_font_size=16)\n",
    "\n",
    "# Show the figure\n",
    "fig.show()"
   ]
  },
  {
   "cell_type": "code",
   "execution_count": null,
   "metadata": {},
   "outputs": [],
   "source": [
    "fig.write_image(\"output/salary_distribution_by_industry.svg\")"
   ]
  },
  {
   "cell_type": "markdown",
   "metadata": {},
   "source": [
    "![Salary Distribution by Industry](output/salary_distribution_by_industry.svg)"
   ]
  },
  {
   "cell_type": "markdown",
   "metadata": {},
   "source": [
    "The graph reveals significant disparities in salary distribution across various industries, with sectors like Finance and Insurance, Information, and Professional, Scientific, and Technical Services likely exhibiting higher median salaries due to the specialized skills and expertise required. Conversely, industries such as Accommodation and Food Services, Retail Trade, and Arts, Entertainment, and Recreation tend to show lower salary ranges, reflecting the prevalence of entry-level or service-oriented roles that typically offer lower compensation. This distribution underscores the impact of industry type on earning potential, highlighting the economic stratification across different sectors."
   ]
  },
  {
   "cell_type": "markdown",
   "metadata": {},
   "source": [
    "# Job Posting Trends Over Time\n",
    "- Analyze how job postings fluctuate over time.\n",
    "- **Aggregate Data**\n",
    "  - Count job postings per **posted date (`POSTED`)**.\n",
    "- **Visualize results**\n",
    "  - Create a **line chart** where:\n",
    "    - **X-axis** = `POSTED`\n",
    "    - **Y-axis** = `Number of Job Postings`\n",
    "  - Apply custom colors and font styles.\n",
    "- **Explanation:** Write two sentences about what the graph reveals."
   ]
  },
  {
   "cell_type": "code",
   "execution_count": null,
   "metadata": {},
   "outputs": [],
   "source": [
    "# Your code for 3rd question here\n",
    "# Aggregate Data: Count job postings per POSTED date\n",
    "job_postings = df.groupBy(\"POSTED\").count().toPandas()\n",
    "\n",
    "# Visualize results: Create a line chart\n",
    "import plotly.express as px\n",
    "fig = px.line(job_postings, x=\"POSTED\", y=\"count\", title=\"Job Posting Trends Over Time\", \n",
    "              color_discrete_sequence=[\"#636EFA\"])\n",
    "\n",
    "# Apply custom colors and font styles\n",
    "fig.update_layout(font_family=\"Arial\", title_font_size=16)\n",
    "\n",
    "# Show the chart\n",
    "fig.show()"
   ]
  },
  {
   "cell_type": "code",
   "execution_count": null,
   "metadata": {},
   "outputs": [],
   "source": [
    "fig.write_image(\"output/job_posting_trends_over_time.svg\")"
   ]
  },
  {
   "cell_type": "markdown",
   "metadata": {},
   "source": [
    "![Job Posting Trends Over Time](output/job_posting_trends_over_time.svg)"
   ]
  },
  {
   "cell_type": "markdown",
   "metadata": {},
   "source": [
    "The graph reveals fluctuations in job posting trends over time, with noticeable peaks and troughs that may correspond to seasonal hiring patterns or economic cycles. The data suggests a potential increase in job postings during month of August, indicating periods of heightened recruitment activity, which could be influenced by factors such as fiscal year-end hiring budgets, industry-specific demand, or broader economic conditions."
   ]
  },
  {
   "cell_type": "markdown",
   "metadata": {},
   "source": [
    "# Top 10 Job Titles by Count\n",
    "- Identify the most frequently posted job titles.\n",
    "- **Aggregate Data**\n",
    "  - Count the occurrences of each **job title (`TITLE_NAME`)**.\n",
    "  - Select the **top 10 most frequent titles**.\n",
    "- **Visualize results**\n",
    "  - Create a **bar chart** where:\n",
    "    - **X-axis** = `TITLE_NAME`\n",
    "    - **Y-axis** = `Job Count`\n",
    "  - Apply custom colors and font styles.\n",
    "- **Explanation:** Write two sentences about what the graph reveals."
   ]
  },
  {
   "cell_type": "code",
   "execution_count": null,
   "metadata": {},
   "outputs": [],
   "source": [
    "# Your code for 4th question here\n",
    "# Aggregate Data: Count occurrences of each job title (TITLE_NAME)\n",
    "job_titles = df.groupBy(\"TITLE_NAME\").count().toPandas()\n",
    "\n",
    "# Select the top 10 most frequent titles\n",
    "top_job_titles = job_titles.nlargest(10, 'count')\n",
    "\n",
    "# Visualize results: Create a bar chart\n",
    "import plotly.express as px\n",
    "fig = px.bar(top_job_titles, x=\"TITLE_NAME\", y=\"count\", title=\"Top 10 Job Titles by Count\", \n",
    "             color_discrete_sequence=[\"#636EFA\"])\n",
    "\n",
    "# Apply custom colors and font styles\n",
    "fig.update_layout(font_family=\"Arial\", title_font_size=16)\n",
    "\n",
    "# Show the chart\n",
    "fig.show()"
   ]
  },
  {
   "cell_type": "code",
   "execution_count": null,
   "metadata": {},
   "outputs": [],
   "source": [
    "fig.write_image(\"output/top_10_job_titles_by_count.svg\")"
   ]
  },
  {
   "cell_type": "markdown",
   "metadata": {},
   "source": [
    "![Top 10 Job Titles by Count](output/top_10_job_titles_by_count.svg)"
   ]
  },
  {
   "cell_type": "markdown",
   "metadata": {},
   "source": [
    "The graph highlights the prevalence of data-centric roles, with titles like Business Intelligence Analytics and Data Governance Analytics dominating the top positions, reflecting the growing importance of data-driven decision-making across industries. The inclusion of specialized roles such as Data Cloud HCM Consultants and ERP Business Analysts underscores the increasing demand for expertise in integrating advanced technologies and enterprise systems, indicating a shift towards more technical and analytical skill sets in the job market."
   ]
  },
  {
   "cell_type": "markdown",
   "metadata": {},
   "source": [
    "# Remote vs On-Site Job Postings\n",
    "- Compare the proportion of remote and on-site job postings.\n",
    "- **Aggregate Data**\n",
    "  - Count job postings by **remote type (`REMOTE_TYPE_NAME`)**.\n",
    "- **Visualize results**\n",
    "  - Create a **pie chart** where:\n",
    "    - **Labels** = `REMOTE_TYPE_NAME`\n",
    "    - **Values** = `Job Count`\n",
    "  - Apply custom colors and font styles.\n",
    "- **Explanation:** Write two sentences about what the graph reveals."
   ]
  },
  {
   "cell_type": "code",
   "execution_count": null,
   "metadata": {},
   "outputs": [],
   "source": [
    "# Your code for 5th question here\n",
    "# Aggregate Data: Count job postings by remote type (REMOTE_TYPE_NAME)\n",
    "remote_job_postings = df.groupBy(\"REMOTE_TYPE_NAME\").count().toPandas()\n",
    "\n",
    "# Visualize results: Create a pie chart\n",
    "import plotly.express as px\n",
    "fig = px.pie(remote_job_postings, names=\"REMOTE_TYPE_NAME\", values=\"count\", title=\"Remote vs On-Site Job Postings\", \n",
    "             color_discrete_sequence=[\"#636EFA\", \"#FF7F0E\"])\n",
    "\n",
    "# Apply custom colors and font styles\n",
    "fig.update_layout(font_family=\"Arial\", title_font_size=16)\n",
    "\n",
    "# Show the chart\n",
    "fig.show()"
   ]
  },
  {
   "cell_type": "code",
   "execution_count": null,
   "metadata": {},
   "outputs": [],
   "source": [
    "fig.write_image(\"output/remote_vs_onsite_job_postings.svg\")"
   ]
  },
  {
   "cell_type": "markdown",
   "metadata": {},
   "source": [
    "![Remote vs On-Site Job Postings](output/remote_vs_onsite_job_postings.svg)"
   ]
  },
  {
   "cell_type": "markdown",
   "metadata": {},
   "source": [
    "The graph reveals that the majority of job postings (78%) do not specify a remote work option, which could indicate a lack of clarity or standardization in how remote work is communicated in job descriptions. The 17.2% of postings explicitly labeled as remote suggest a significant but still minority adoption of remote work policies, reflecting ongoing shifts in workplace flexibility and the varying readiness of industries to embrace remote work models."
   ]
  },
  {
   "cell_type": "markdown",
   "metadata": {},
   "source": [
    "# Skill Demand Analysis by Industry (Stacked Bar Chart)\n",
    "- Identify which skills are most in demand in various industries.\n",
    "- **Aggregate Data**\n",
    "  - Extract **skills** from job postings.\n",
    "  - Count occurrences of skills grouped by **NAICS industry codes**.\n",
    "- **Visualize results**\n",
    "  - Create a **stacked bar chart** where:\n",
    "    - **X-axis** = `Industry`\n",
    "    - **Y-axis** = `Skill Count`\n",
    "    - **Color** = `Skill`\n",
    "  - Apply custom colors and font styles.\n",
    "- **Explanation:** Write two sentences about what the graph reveals."
   ]
  },
  {
   "cell_type": "code",
   "execution_count": null,
   "metadata": {},
   "outputs": [],
   "source": [
    "# Your code for 6th question here\n",
    "# Aggregate Data: Extract skills and count occurrences grouped by NAICS industry codes\n",
    "from pyspark.sql.functions import explode, split\n",
    "\n",
    "# Extract and split the skills\n",
    "df = df.withColumn(\"SKILLS_LIST\", split(df[\"SKILLS\"], \",\"))\n",
    "df_exploded = df.withColumn(\"SKILL\", explode(df[\"SKILLS_LIST\"]))\n",
    "\n",
    "# Count occurrences of each skill per industry (NAICS code)\n",
    "skill_demand = df_exploded.groupBy(\"NAICS2_NAME\", \"SKILL\").count().toPandas()\n",
    "\n",
    "# Visualize results: Create a stacked bar chart\n",
    "import plotly.express as px\n",
    "fig = px.bar(skill_demand, x=\"NAICS2_NAME\", y=\"count\", color=\"SKILL\", title=\"Skill Demand Analysis by Industry\", \n",
    "             color_discrete_sequence=[\"#636EFA\", \"#FF7F0E\", \"#00CC96\", \"#AB63A1\", \"#FFD700\"])\n",
    "\n",
    "# Apply custom colors and font styles\n",
    "fig.update_layout(font_family=\"Arial\", title_font_size=16)\n",
    "\n",
    "# Show the chart\n",
    "fig.show()"
   ]
  },
  {
   "cell_type": "code",
   "execution_count": null,
   "metadata": {},
   "outputs": [],
   "source": [
    "fig.write_image(\"output/skill_demand_analysis_by_industry.svg\")"
   ]
  },
  {
   "cell_type": "markdown",
   "metadata": {},
   "source": [
    "![Skill Demand Analysis by Industry](output/skill_demand_analysis_by_industry.svg)"
   ]
  },
  {
   "cell_type": "markdown",
   "metadata": {},
   "source": [
    "The graph reveals varying levels of skill demand across industries, with sectors like Professional, Scientific, and Technical Services, Information, and Finance and Insurance likely showing higher demand for specialized skills due to their reliance on advanced expertise and innovation. In contrast, industries such as Accommodation and Food Services and Retail Trade may exhibit lower skill demand, reflecting a greater focus on generalist roles and customer service-oriented positions."
   ]
  },
  {
   "cell_type": "markdown",
   "metadata": {},
   "source": [
    "\n",
    "# Salary Analysis by ONET Occupation Type (Bubble Chart)\n",
    "- Analyze how salaries differ across ONET occupation types.\n",
    "- **Aggregate Data**\n",
    "  - Compute **median salary** for each occupation in the **ONET taxonomy**.\n",
    "- **Visualize results**\n",
    "  - Create a **bubble chart** where:\n",
    "    - **X-axis** = `ONET_NAME`\n",
    "    - **Y-axis** = `Median Salary`\n",
    "    - **Size** = Number of job postings\n",
    "  - Apply custom colors and font styles.\n",
    "- **Explanation:** Write two sentences about what the graph reveals."
   ]
  },
  {
   "cell_type": "code",
   "execution_count": null,
   "metadata": {},
   "outputs": [],
   "source": [
    "# Your code for 7th question here\n",
    "# Aggregate Data: Compute median salary and count job postings per ONET occupation type\n",
    "from pyspark.sql.functions import median\n",
    "from pyspark.sql.functions import count\n",
    "\n",
    "salary_analysis = df.groupBy(\"ONET_NAME\").agg(\n",
    "    median(\"SALARY\").alias(\"Median_Salary\"),\n",
    "    count(\"*\").alias(\"Job_Posting_Count\")\n",
    ").toPandas()\n",
    "\n",
    "# Visualize results: Create a bubble chart\n",
    "import plotly.express as px\n",
    "fig = px.scatter(salary_analysis, x=\"ONET_NAME\", y=\"Median_Salary\", size=\"Job_Posting_Count\", \n",
    "                 title=\"Salary Analysis by ONET Occupation Type\", color_discrete_sequence=[\"#636EFA\"])\n",
    "\n",
    "# Apply custom colors and font styles\n",
    "fig.update_layout(font_family=\"Arial\", title_font_size=16)\n",
    "\n",
    "# Show the chart\n",
    "fig.show()"
   ]
  },
  {
   "cell_type": "code",
   "execution_count": null,
   "metadata": {},
   "outputs": [],
   "source": [
    "fig.write_image(\"output/salary_analysis_by_ONET.svg\")"
   ]
  },
  {
   "cell_type": "markdown",
   "metadata": {},
   "source": [
    "![Salary Analysis by ONET Occupation Type](output/salary_analysis_by_ONET.svg)"
   ]
  },
  {
   "cell_type": "markdown",
   "metadata": {},
   "source": [
    "The graph indicates a consistent median salary of approximately $116,300 for Business Intelligence Analysts, suggesting a stable and competitive compensation level for this role within the ONET occupation framework. This consistency may reflect the high demand for data analysis skills and the specialized expertise required, underscoring the value placed on professionals who can drive data-driven decision-making in organizations."
   ]
  },
  {
   "cell_type": "markdown",
   "metadata": {},
   "source": [
    "# Career Pathway Trends (Sankey Diagram)\n",
    "- Visualize job transitions between different occupation levels.\n",
    "- **Aggregate Data**\n",
    "  - Identify career transitions between **SOC job classifications**.\n",
    "- **Visualize results**\n",
    "  - Create a **Sankey diagram** where:\n",
    "    - **Source** = `SOC_2021_2_NAME`\n",
    "    - **Target** = `SOC_2021_3_NAME`\n",
    "    - **Value** = Number of transitions\n",
    "  - Apply custom colors and font styles.\n",
    "- **Explanation:** Write two sentences about what the graph reveals."
   ]
  },
  {
   "cell_type": "code",
   "execution_count": null,
   "metadata": {},
   "outputs": [],
   "source": [
    "# Your code for 8th question here\n",
    "# Aggregate Data: Count career transitions between SOC job classifications\n",
    "career_transitions = df.groupBy(\"SOC_2021_2_NAME\", \"SOC_2021_3_NAME\").count().toPandas()\n",
    "\n",
    "# Create a mapping of unique labels to indices for source and target nodes\n",
    "labels = list(set(career_transitions[\"SOC_2021_2_NAME\"]).union(set(career_transitions[\"SOC_2021_3_NAME\"])))\n",
    "label_map = {label: i for i, label in enumerate(labels)}\n",
    "\n",
    "# Visualize results: Create a larger Sankey diagram\n",
    "import plotly.graph_objects as go\n",
    "\n",
    "fig = go.Figure(go.Sankey(\n",
    "    node=dict(\n",
    "        pad=15, thickness=20, line=dict(color=\"black\", width=0.5),\n",
    "        label=labels,\n",
    "        color=\"#636EFA\"\n",
    "    ),\n",
    "    link=dict(\n",
    "        source=[label_map[s] for s in career_transitions[\"SOC_2021_2_NAME\"]],\n",
    "        target=[label_map[t] for t in career_transitions[\"SOC_2021_3_NAME\"]],\n",
    "        value=career_transitions[\"count\"]\n",
    "    )\n",
    "))\n",
    "\n",
    "# Apply custom colors, font styles, and increase figure size\n",
    "fig.update_layout(title_text=\"Career Pathway Trends\", font_family=\"Arial\", title_font_size=18, width=1200, height=800)\n",
    "\n",
    "# Show the chart\n",
    "fig.show()"
   ]
  },
  {
   "cell_type": "code",
   "execution_count": null,
   "metadata": {},
   "outputs": [],
   "source": [
    "fig.write_image(\"output/career_pathway_trends.svg\")"
   ]
  },
  {
   "cell_type": "markdown",
   "metadata": {},
   "source": [
    "![Career Pathway Trends](output/career_pathway_trends.svg)"
   ]
  },
  {
   "cell_type": "markdown",
   "metadata": {},
   "source": [
    "The Sankey diagram illustrates a clear career pathway trend where all 72.5k Computer and Mathematical occupations transition into Mathematical Science occupations, indicating a strong alignment and specialization within this field. This trend suggests a focused career progression, highlighting the importance of foundational skills in computer and mathematical disciplines as a gateway to more specialized roles in mathematical sciences, which are critical for advanced research, data analysis, and technological innovation."
   ]
  }
 ],
 "metadata": {
  "kernelspec": {
   "display_name": "Python 3",
   "language": "python",
   "name": "python3"
  },
  "language_info": {
   "codemirror_mode": {
    "name": "ipython",
    "version": 3
   },
   "file_extension": ".py",
   "mimetype": "text/x-python",
   "name": "python",
   "nbconvert_exporter": "python",
   "pygments_lexer": "ipython3",
   "version": "3.10.12"
  }
 },
 "nbformat": 4,
 "nbformat_minor": 2
}
